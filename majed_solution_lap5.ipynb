{
 "cells": [
  {
   "cell_type": "code",
   "execution_count": 13,
   "id": "7d3c3dd5",
   "metadata": {},
   "outputs": [
    {
     "name": "stdout",
     "output_type": "stream",
     "text": [
      "139\n"
     ]
    }
   ],
   "source": [
    "# Given the following list : [5, 4, 17, 19, 30, 2, 7, 10, 45]\n",
    "list_num = [5, 4, 17, 19, 30, 2, 7, 10, 45]\n",
    "# Q1: Write a Python program to sum all the items in the list.\n",
    "\n",
    "def sum_list(List): # here we identified a function that sum up the values inside the list\n",
    "    total =0 # identified variable to sum the valeus with it \n",
    "    for i in List: # looping through the list and summing up all the values \n",
    "        total+=i \n",
    "    print(total)\n",
    "    \n",
    "sum_list(list_num) # calling the function and passing the arg to it \"should be list\"\n",
    "\n",
    "\n"
   ]
  },
  {
   "cell_type": "code",
   "execution_count": 14,
   "id": "98d97332",
   "metadata": {},
   "outputs": [
    {
     "name": "stdout",
     "output_type": "stream",
     "text": [
      "45\n"
     ]
    }
   ],
   "source": [
    "# Q2: Write a Python program to get the largest number from the list.\n",
    "MAX =max(list_num) # max function resturns the maximumm value of the array then saves it at MAX \n",
    "print(MAX)"
   ]
  },
  {
   "cell_type": "code",
   "execution_count": 19,
   "id": "653bd33f",
   "metadata": {},
   "outputs": [
    {
     "name": "stdout",
     "output_type": "stream",
     "text": [
      "[4, 30, 2, 10]\n"
     ]
    }
   ],
   "source": [
    "# Q3: Use list comprehension, create a new list from the above list containing only even numbers.\n",
    "even_list =[i for i in list_num if i%2==0] # looping through the list then it checks the condution if it even it will saves it \n",
    "print(even_list)"
   ]
  },
  {
   "cell_type": "code",
   "execution_count": 18,
   "id": "2e1fee1b",
   "metadata": {},
   "outputs": [
    {
     "name": "stdout",
     "output_type": "stream",
     "text": [
      "[5, 4, 17, 19, 30]\n"
     ]
    }
   ],
   "source": [
    "# Q4: Use list slicing to get a new list from the previous list starting from the start to the 5th element in the list.\n",
    "new_list = list_num[0:5]\n",
    "print(new_list)\n",
    "    "
   ]
  },
  {
   "cell_type": "code",
   "execution_count": null,
   "id": "674e221b",
   "metadata": {},
   "outputs": [],
   "source": []
  }
 ],
 "metadata": {
  "kernelspec": {
   "display_name": "Python 3 (ipykernel)",
   "language": "python",
   "name": "python3"
  },
  "language_info": {
   "codemirror_mode": {
    "name": "ipython",
    "version": 3
   },
   "file_extension": ".py",
   "mimetype": "text/x-python",
   "name": "python",
   "nbconvert_exporter": "python",
   "pygments_lexer": "ipython3",
   "version": "3.9.15"
  }
 },
 "nbformat": 4,
 "nbformat_minor": 5
}
